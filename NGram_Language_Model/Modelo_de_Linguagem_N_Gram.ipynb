{
  "cells": [
    {
      "cell_type": "code",
      "execution_count": null,
      "metadata": {
        "id": "Am74IsrvgX9l"
      },
      "outputs": [],
      "source": [
        "import requests\n",
        "from bs4 import BeautifulSoup\n",
        "import random\n",
        "import re\n",
        "from collections import defaultdict, Counter\n",
        "\n",
        "class NGramModel:\n",
        "    def __init__(self, n):\n",
        "        self.n = n  # Valor de n no modelo N-Grama (e.g., 1 para unigrama, 2 para bigrama)\n",
        "        self.ngrams = defaultdict(Counter)  # Initializa um defaultdict de Counters para armazenar n-gramas e suas frequencias\n",
        "\n",
        "    def train(self, text):\n",
        "        tokens = self._tokenize(text)  # Tokeniza a entrada de texto\n",
        "        ngrams = self._create_ngrams(tokens)  # Cria n-gramas a partir dos tokens\n",
        "\n",
        "        for ngram in ngrams:  # Itera sobre as n-gramas criadas\n",
        "            prefix, token = tuple(ngram[:-1]), ngram[-1]  # Separa a n-grama em prefixo e token\n",
        "            self.ngrams[prefix][token] += 1  # Incrementa a frequencia do token que sucede o prefixo\n",
        "\n",
        "    def generate(self, max_words=100):\n",
        "        output = []\n",
        "        if self.n == 1:  # Tratando o caso de unigramas\n",
        "            for _ in range(max_words):\n",
        "                next_word = self._choose_next(None)  # Unigramas usam None como prefixo\n",
        "                if next_word is None:\n",
        "                    break\n",
        "                output.append(next_word)\n",
        "        else:\n",
        "            current = random.choice(list(self.ngrams.keys()))  # Selecione um prefixo inicital aleatoriamente\n",
        "            output = list(current)  # Inicializa a saída com o prefixo inicial\n",
        "\n",
        "            for _ in range(max_words - self.n + 1):  # Gera palavras até que max_words seja alcançado\n",
        "                next_word = self._choose_next(current)  # Escolhe a próxima palavra baseado no prefixo atual\n",
        "                if next_word is None:  # Se nenhuma palvavra é encontrada, quebre o laço\n",
        "                    break\n",
        "                output.append(next_word)  # Adicione a próxima palavra à saída\n",
        "                current = tuple(output[-self.n+1:])  # Atualize o prefixo atual\n",
        "\n",
        "        return ' '.join(output)  # Retorna o texto gerado como string\n",
        "\n",
        "    def _choose_next(self, prefix):\n",
        "        if self.n == 1:\n",
        "            options = self.ngrams[()]  # Para unigrama, use uma tupla vazia como chave\n",
        "        else:\n",
        "            options = self.ngrams.get(prefix, None)  # Pegue as possíveis próxijmas palavras para o dado prefixo\n",
        "\n",
        "        if options:  # Se options foi encontrado\n",
        "            total = sum(options.values())\n",
        "            probs = [count / total for count in options.values()]  # Calcula as probabilidades\n",
        "            return random.choices(list(options.keys()), weights=probs)[0]  # Escolha uma palavra baseada nas probabilidades\n",
        "        else:\n",
        "            return None  # Retorna None se options não for encontrado\n",
        "\n",
        "    def _create_ngrams(self, tokens):\n",
        "        if len(tokens) < self.n:\n",
        "          return []\n",
        "        return [tuple(tokens[i:i + self.n]) for i in range(len(tokens) - self.n + 1)]  # Create n-grams from tokens\n",
        "\n",
        "    def _tokenize(self, text):\n",
        "        return list(map(str, text.lower()))  # Separa o texto em tokens\n",
        "\n",
        "# Function to read text from a file\n",
        "def read_text_from_file(file_path):\n",
        "    with open(file_path, 'r', encoding='utf-8') as file:\n",
        "        return file.read()"
      ]
    },
    {
      "cell_type": "code",
      "source": [
        "r = requests.get(\"https://www.gutenberg.org/cache/epub/73984/pg73984-images.html\")\n",
        "\n",
        "r.encoding = 'utf-8'\n",
        "\n",
        "html = r.text\n",
        "\n",
        "soup = BeautifulSoup(html, 'html.parser')\n",
        "\n",
        "text = soup.get_text()\n",
        "\n",
        "unigram_model = NGramModel(1)\n",
        "bigram_model = NGramModel(2)\n",
        "trigram_model = NGramModel(10)\n",
        "#decgram_model = NGramModel(10)\n",
        "\n",
        "\n",
        "unigram_model.train(text)\n",
        "bigram_model.train(text)\n",
        "trigram_model.train(text)\n",
        "#decgram_model.train(text)\n",
        "\n",
        "print(\"Unigram Generated Text:\", unigram_model.generate(max_words=10))\n",
        "print(\"Bigram Generated Text:\", bigram_model.generate(max_words=10))\n",
        "print(\"Trigram Generated Text:\", trigram_model.generate(max_words=20))\n",
        "#rint(\"decgram Generated Text:\", decgram_model.generate(max_words=40))"
      ],
      "metadata": {
        "id": "knSlgijtVoAp",
        "outputId": "0e45518a-071b-4225-d1e1-3f8c5794f7c7",
        "colab": {
          "base_uri": "https://localhost:8080/"
        }
      },
      "execution_count": null,
      "outputs": [
        {
          "output_type": "stream",
          "name": "stdout",
          "text": [
            "Unigram Generated Text: d   m u h l d b t  \n",
            "Bigram Generated Text: - o r e n t o r a r\n",
            "Trigram Generated Text: t h e   m a i l   r o o m   b e f o r e\n"
          ]
        }
      ]
    }
  ],
  "metadata": {
    "colab": {
      "provenance": []
    },
    "kernelspec": {
      "display_name": "Python 3",
      "name": "python3"
    },
    "language_info": {
      "name": "python"
    }
  },
  "nbformat": 4,
  "nbformat_minor": 0
}